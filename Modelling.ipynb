{
 "cells": [
  {
   "cell_type": "code",
   "execution_count": 78,
   "metadata": {},
   "outputs": [],
   "source": [
    "#%pip install pandas"
   ]
  },
  {
   "cell_type": "code",
   "execution_count": 79,
   "metadata": {},
   "outputs": [],
   "source": [
    "import pyspark\n",
    "import matplotlib.pyplot as plt\n",
    "from pyspark.sql.functions import col, corr\n",
    "from pyspark.ml.stat import Correlation\n",
    "from pyspark.ml.feature import VarianceThresholdSelector\n",
    "from pyspark.ml.linalg import Vectors\n",
    "from pyspark.ml.feature import MinMaxScaler, VectorAssembler"
   ]
  },
  {
   "cell_type": "code",
   "execution_count": 80,
   "metadata": {},
   "outputs": [],
   "source": [
    "spark = pyspark.sql.SparkSession.builder.getOrCreate()\n",
    "df = spark.read.parquet(r\"D:\\hacs_spark\\4763_str_combined.parquet\"\n",
    "                    ,inferSchema= True)"
   ]
  },
  {
   "cell_type": "code",
   "execution_count": 81,
   "metadata": {},
   "outputs": [
    {
     "name": "stdout",
     "output_type": "stream",
     "text": [
      "+-------+--------------------+---------+-------+-------+-------+-----------+-----------+-----------+-------+-------+-------+-----------+-----------+-----------+\n",
      "|HotelID|          Hotel Name|     Date|PropSup|PropDem|PropRev|    PropOcc|    PropADR| PropRevPAR|CompSup|CompDem|CompRev|    CompOcc|    CompADR| CompRevPAR|\n",
      "+-------+--------------------+---------+-------+-------+-------+-----------+-----------+-----------+-------+-------+-------+-----------+-----------+-----------+\n",
      "|   4763|AC Hotels by Marr...|5/23/2021|    234|    143|  14982|0.611111111|104.7692308|64.02564103|   1311|    677|  71519|0.516399695|105.6410635|54.55301297|\n",
      "|   4763|AC Hotels by Marr...|5/24/2021|    234|    112|  11946|0.478632479|106.6607143|51.05128205|   1311|    528|  55124|0.402745995|104.4015152|42.04729214|\n",
      "|   4763|AC Hotels by Marr...|5/25/2021|    234|     99|  10733|0.423076923|108.4141414|45.86752137|   1311|    496|  54884|0.378337147|110.6532258|41.86422578|\n",
      "|   4763|AC Hotels by Marr...|5/26/2021|    234|    112|  11868|0.478632479|105.9642857|50.71794872|   1311|    480|  53515|0.366132723|111.4895833|40.81998474|\n",
      "|   4763|AC Hotels by Marr...|5/27/2021|    234|    112|  11100|0.478632479|99.10714286|47.43589744|   1311|    571|  62268|0.435545385|109.0507881|47.49656751|\n",
      "+-------+--------------------+---------+-------+-------+-------+-----------+-----------+-----------+-------+-------+-------+-----------+-----------+-----------+\n",
      "only showing top 5 rows\n",
      "\n"
     ]
    }
   ],
   "source": [
    "df.show(5)"
   ]
  },
  {
   "cell_type": "code",
   "execution_count": 82,
   "metadata": {},
   "outputs": [
    {
     "data": {
      "text/plain": [
       "<bound method DataFrame.describe of DataFrame[HotelID: int, Hotel Name: string, Date: string, PropSup: int, PropDem: int, PropRev: int, PropOcc: double, PropADR: double, PropRevPAR: double, CompSup: int, CompDem: int, CompRev: int, CompOcc: double, CompADR: double, CompRevPAR: double]>"
      ]
     },
     "execution_count": 82,
     "metadata": {},
     "output_type": "execute_result"
    }
   ],
   "source": [
    "df.describe"
   ]
  },
  {
   "cell_type": "code",
   "execution_count": 83,
   "metadata": {},
   "outputs": [],
   "source": [
    "\n",
    "# propDemTY = df.select(\"PropDemTY\").rdd.flatMap(lambda x: x).collect()\n",
    "\n",
    "# Date = df.select(\"DateTY\").rdd.flatMap(lambda x: x).collect()\n",
    "# print(type(propDemTY),type(Date))\n",
    "\n",
    "# # Create a line chart using Matplotlib\n",
    "# plt.figure(figsize=(8, 6))\n",
    "# plt.hist(propDemTY, Date,  linestyle='-')\n",
    "# plt.title(\"Line Chart Example\")\n",
    "# plt.xlabel(\"X-axis\")\n",
    "# plt.ylabel(\"Y-axis\")\n",
    "# plt.grid(True)\n",
    "\n",
    "# # Show the plot\n",
    "# plt.show()"
   ]
  },
  {
   "cell_type": "markdown",
   "metadata": {},
   "source": [
    " Feature Selection"
   ]
  },
  {
   "cell_type": "code",
   "execution_count": 84,
   "metadata": {},
   "outputs": [],
   "source": [
    "columns = ['PropSup',\n",
    " 'PropDem',\n",
    " 'PropRev',\n",
    " 'PropOcc',\n",
    " 'PropADR',\n",
    " 'PropRevPAR',\n",
    " 'CompSup',\n",
    " 'CompDem',\n",
    " 'CompRev',\n",
    " 'CompOcc',\n",
    " 'CompADR',\n",
    " 'CompRevPAR'\n",
    " ]\n",
    "\n",
    "\n",
    "# Convert numeric columns to a feature vector\n",
    "assembler = VectorAssembler(inputCols=columns, outputCol=\"features\")\n",
    "x = assembler.transform(df)\n",
    "\n",
    "# Calculate the correlation matrix\n",
    "corr_matrix = Correlation.corr(x, \"features\").collect()[0][0]\n",
    "#corr_matrix.show()"
   ]
  },
  {
   "cell_type": "code",
   "execution_count": 85,
   "metadata": {},
   "outputs": [
    {
     "name": "stdout",
     "output_type": "stream",
     "text": [
      "0\n",
      "Correlation between elements 0 and 0: 1.0\n",
      "Correlation between elements 0 and 1: nan\n",
      "Correlation between elements 0 and 2: nan\n",
      "Correlation between elements 0 and 3: nan\n",
      "Correlation between elements 0 and 4: nan\n",
      "Correlation between elements 0 and 5: nan\n",
      "Correlation between elements 0 and 6: nan\n",
      "Correlation between elements 0 and 7: nan\n",
      "Correlation between elements 0 and 8: nan\n",
      "Correlation between elements 0 and 9: nan\n",
      "Correlation between elements 0 and 10: nan\n",
      "Correlation between elements 0 and 11: nan\n",
      "1\n",
      "Correlation between elements 1 and 0: nan\n",
      "Correlation between elements 1 and 1: 1.0\n",
      "Correlation between elements 1 and 2: 0.8391573898181064\n",
      "Correlation between elements 1 and 3: 1.0000000000000007\n",
      "Correlation between elements 1 and 4: 0.696513925086892\n",
      "Correlation between elements 1 and 5: 0.8391573898190153\n",
      "Correlation between elements 1 and 6: nan\n",
      "Correlation between elements 1 and 7: 0.8500615847701802\n",
      "Correlation between elements 1 and 8: 0.7950765327045598\n",
      "Correlation between elements 1 and 9: 0.8500615847281998\n",
      "Correlation between elements 1 and 10: 0.6654828455855595\n",
      "Correlation between elements 1 and 11: 0.7950765326942452\n",
      "2\n",
      "Correlation between elements 2 and 0: nan\n",
      "Correlation between elements 2 and 1: 0.8391573898181064\n",
      "Correlation between elements 2 and 2: 1.0\n",
      "Correlation between elements 2 and 3: 0.839157389796381\n",
      "Correlation between elements 2 and 4: 0.9675277497602444\n",
      "Correlation between elements 2 and 5: 1.0000000000000004\n",
      "Correlation between elements 2 and 6: nan\n",
      "Correlation between elements 2 and 7: 0.743348073530991\n",
      "Correlation between elements 2 and 8: 0.9319000182336487\n",
      "Correlation between elements 2 and 9: 0.7433480734673267\n",
      "Correlation between elements 2 and 10: 0.902257909778607\n",
      "Correlation between elements 2 and 11: 0.9319000182247655\n",
      "3\n",
      "Correlation between elements 3 and 0: nan\n",
      "Correlation between elements 3 and 1: 1.0000000000000007\n",
      "Correlation between elements 3 and 2: 0.839157389796381\n",
      "Correlation between elements 3 and 3: 1.0\n",
      "Correlation between elements 3 and 4: 0.6965139250563868\n",
      "Correlation between elements 3 and 5: 0.8391573897972909\n",
      "Correlation between elements 3 and 6: nan\n",
      "Correlation between elements 3 and 7: 0.8500615847740923\n",
      "Correlation between elements 3 and 8: 0.7950765326808605\n",
      "Correlation between elements 3 and 9: 0.8500615847321084\n",
      "Correlation between elements 3 and 10: 0.6654828455376596\n",
      "Correlation between elements 3 and 11: 0.7950765326705436\n",
      "4\n",
      "Correlation between elements 4 and 0: nan\n",
      "Correlation between elements 4 and 1: 0.696513925086892\n",
      "Correlation between elements 4 and 2: 0.9675277497602444\n",
      "Correlation between elements 4 and 3: 0.6965139250563868\n",
      "Correlation between elements 4 and 4: 1.0\n",
      "Correlation between elements 4 and 5: 0.9675277497608141\n",
      "Correlation between elements 4 and 6: nan\n",
      "Correlation between elements 4 and 7: 0.6417122560888306\n",
      "Correlation between elements 4 and 8: 0.9081003392178825\n",
      "Correlation between elements 4 and 9: 0.641712256025178\n",
      "Correlation between elements 4 and 10: 0.9383635929400906\n",
      "Correlation between elements 4 and 11: 0.9081003392101085\n",
      "5\n",
      "Correlation between elements 5 and 0: nan\n",
      "Correlation between elements 5 and 1: 0.8391573898190153\n",
      "Correlation between elements 5 and 2: 1.0000000000000004\n",
      "Correlation between elements 5 and 3: 0.8391573897972909\n",
      "Correlation between elements 5 and 4: 0.9675277497608141\n",
      "Correlation between elements 5 and 5: 1.0\n",
      "Correlation between elements 5 and 6: nan\n",
      "Correlation between elements 5 and 7: 0.7433480735330292\n",
      "Correlation between elements 5 and 8: 0.9319000182360705\n",
      "Correlation between elements 5 and 9: 0.743348073469365\n",
      "Correlation between elements 5 and 10: 0.902257909782356\n",
      "Correlation between elements 5 and 11: 0.9319000182271862\n",
      "6\n",
      "Correlation between elements 6 and 0: nan\n",
      "Correlation between elements 6 and 1: nan\n",
      "Correlation between elements 6 and 2: nan\n",
      "Correlation between elements 6 and 3: nan\n",
      "Correlation between elements 6 and 4: nan\n",
      "Correlation between elements 6 and 5: nan\n",
      "Correlation between elements 6 and 6: 1.0\n",
      "Correlation between elements 6 and 7: nan\n",
      "Correlation between elements 6 and 8: nan\n",
      "Correlation between elements 6 and 9: nan\n",
      "Correlation between elements 6 and 10: nan\n",
      "Correlation between elements 6 and 11: nan\n",
      "7\n",
      "Correlation between elements 7 and 0: nan\n",
      "Correlation between elements 7 and 1: 0.8500615847701802\n",
      "Correlation between elements 7 and 2: 0.743348073530991\n",
      "Correlation between elements 7 and 3: 0.8500615847740923\n",
      "Correlation between elements 7 and 4: 0.6417122560888306\n",
      "Correlation between elements 7 and 5: 0.7433480735330292\n",
      "Correlation between elements 7 and 6: nan\n",
      "Correlation between elements 7 and 7: 1.0\n",
      "Correlation between elements 7 and 8: 0.8536961262131176\n",
      "Correlation between elements 7 and 9: 1.0000000000000018\n",
      "Correlation between elements 7 and 10: 0.6499625914273968\n",
      "Correlation between elements 7 and 11: 0.8536961262087202\n",
      "8\n",
      "Correlation between elements 8 and 0: nan\n",
      "Correlation between elements 8 and 1: 0.7950765327045598\n",
      "Correlation between elements 8 and 2: 0.9319000182336487\n",
      "Correlation between elements 8 and 3: 0.7950765326808605\n",
      "Correlation between elements 8 and 4: 0.9081003392178825\n",
      "Correlation between elements 8 and 5: 0.9319000182360705\n",
      "Correlation between elements 8 and 6: nan\n",
      "Correlation between elements 8 and 7: 0.8536961262131176\n",
      "Correlation between elements 8 and 8: 1.0\n",
      "Correlation between elements 8 and 9: 0.8536961261699971\n",
      "Correlation between elements 8 and 10: 0.9391364683997365\n",
      "Correlation between elements 8 and 11: 0.9999999999999999\n",
      "9\n",
      "Correlation between elements 9 and 0: nan\n",
      "Correlation between elements 9 and 1: 0.8500615847281998\n",
      "Correlation between elements 9 and 2: 0.7433480734673267\n",
      "Correlation between elements 9 and 3: 0.8500615847321084\n",
      "Correlation between elements 9 and 4: 0.641712256025178\n",
      "Correlation between elements 9 and 5: 0.743348073469365\n",
      "Correlation between elements 9 and 6: nan\n",
      "Correlation between elements 9 and 7: 1.0000000000000018\n",
      "Correlation between elements 9 and 8: 0.8536961261699971\n",
      "Correlation between elements 9 and 9: 1.0\n",
      "Correlation between elements 9 and 10: 0.6499625913659929\n",
      "Correlation between elements 9 and 11: 0.8536961261656009\n",
      "10\n",
      "Correlation between elements 10 and 0: nan\n",
      "Correlation between elements 10 and 1: 0.6654828455855595\n",
      "Correlation between elements 10 and 2: 0.902257909778607\n",
      "Correlation between elements 10 and 3: 0.6654828455376596\n",
      "Correlation between elements 10 and 4: 0.9383635929400906\n",
      "Correlation between elements 10 and 5: 0.902257909782356\n",
      "Correlation between elements 10 and 6: nan\n",
      "Correlation between elements 10 and 7: 0.6499625914273968\n",
      "Correlation between elements 10 and 8: 0.9391364683997365\n",
      "Correlation between elements 10 and 9: 0.6499625913659929\n",
      "Correlation between elements 10 and 10: 1.0\n",
      "Correlation between elements 10 and 11: 0.9391364684011535\n",
      "11\n",
      "Correlation between elements 11 and 0: nan\n",
      "Correlation between elements 11 and 1: 0.7950765326942452\n",
      "Correlation between elements 11 and 2: 0.9319000182247655\n",
      "Correlation between elements 11 and 3: 0.7950765326705436\n",
      "Correlation between elements 11 and 4: 0.9081003392101085\n",
      "Correlation between elements 11 and 5: 0.9319000182271862\n",
      "Correlation between elements 11 and 6: nan\n",
      "Correlation between elements 11 and 7: 0.8536961262087202\n",
      "Correlation between elements 11 and 8: 0.9999999999999999\n",
      "Correlation between elements 11 and 9: 0.8536961261656009\n",
      "Correlation between elements 11 and 10: 0.9391364684011535\n",
      "Correlation between elements 11 and 11: 1.0\n"
     ]
    }
   ],
   "source": [
    "# Display the correlation matrix\n",
    "correlation_matrix = corr_matrix.toArray()\n",
    "\n",
    "# Print the correlation matrix\n",
    "for i in range(len(correlation_matrix)):\n",
    "    print(i)\n",
    "    for j in range(len(correlation_matrix[i])):\n",
    "        print(f\"Correlation between elements {i} and {j}: {correlation_matrix[i, j]}\")"
   ]
  },
  {
   "cell_type": "code",
   "execution_count": 86,
   "metadata": {},
   "outputs": [
    {
     "data": {
      "text/plain": [
       "(12, 12)"
      ]
     },
     "execution_count": 86,
     "metadata": {},
     "output_type": "execute_result"
    }
   ],
   "source": [
    "correlation_matrix.shape"
   ]
  },
  {
   "cell_type": "code",
   "execution_count": 87,
   "metadata": {},
   "outputs": [
    {
     "name": "stdout",
     "output_type": "stream",
     "text": [
      "DenseMatrix([[1.        ,        NaN,        NaN,        NaN,        NaN,\n",
      "                     NaN,        NaN,        NaN,        NaN,        NaN,\n",
      "                     NaN,        NaN],\n",
      "             [       NaN, 1.        , 0.83915739, 1.        , 0.69651393,\n",
      "              0.83915739,        NaN, 0.85006158, 0.79507653, 0.85006158,\n",
      "              0.66548285, 0.79507653],\n",
      "             [       NaN, 0.83915739, 1.        , 0.83915739, 0.96752775,\n",
      "              1.        ,        NaN, 0.74334807, 0.93190002, 0.74334807,\n",
      "              0.90225791, 0.93190002],\n",
      "             [       NaN, 1.        , 0.83915739, 1.        , 0.69651393,\n",
      "              0.83915739,        NaN, 0.85006158, 0.79507653, 0.85006158,\n",
      "              0.66548285, 0.79507653],\n",
      "             [       NaN, 0.69651393, 0.96752775, 0.69651393, 1.        ,\n",
      "              0.96752775,        NaN, 0.64171226, 0.90810034, 0.64171226,\n",
      "              0.93836359, 0.90810034],\n",
      "             [       NaN, 0.83915739, 1.        , 0.83915739, 0.96752775,\n",
      "              1.        ,        NaN, 0.74334807, 0.93190002, 0.74334807,\n",
      "              0.90225791, 0.93190002],\n",
      "             [       NaN,        NaN,        NaN,        NaN,        NaN,\n",
      "                     NaN, 1.        ,        NaN,        NaN,        NaN,\n",
      "                     NaN,        NaN],\n",
      "             [       NaN, 0.85006158, 0.74334807, 0.85006158, 0.64171226,\n",
      "              0.74334807,        NaN, 1.        , 0.85369613, 1.        ,\n",
      "              0.64996259, 0.85369613],\n",
      "             [       NaN, 0.79507653, 0.93190002, 0.79507653, 0.90810034,\n",
      "              0.93190002,        NaN, 0.85369613, 1.        , 0.85369613,\n",
      "              0.93913647, 1.        ],\n",
      "             [       NaN, 0.85006158, 0.74334807, 0.85006158, 0.64171226,\n",
      "              0.74334807,        NaN, 1.        , 0.85369613, 1.        ,\n",
      "              0.64996259, 0.85369613],\n",
      "             [       NaN, 0.66548285, 0.90225791, 0.66548285, 0.93836359,\n",
      "              0.90225791,        NaN, 0.64996259, 0.93913647, 0.64996259,\n",
      "              1.        , 0.93913647],\n",
      "             [       NaN, 0.79507653, 0.93190002, 0.79507653, 0.90810034,\n",
      "              0.93190002,        NaN, 0.85369613, 1.        , 0.85369613,\n",
      "              0.93913647, 1.        ]])\n"
     ]
    }
   ],
   "source": [
    "print(str(corr_matrix).replace('nan', 'NaN'))"
   ]
  },
  {
   "cell_type": "markdown",
   "metadata": {},
   "source": [
    "Variance Threshold Selector"
   ]
  },
  {
   "cell_type": "code",
   "execution_count": 88,
   "metadata": {},
   "outputs": [],
   "source": [
    "features1=x.select(\"features\")"
   ]
  },
  {
   "cell_type": "code",
   "execution_count": 89,
   "metadata": {},
   "outputs": [
    {
     "name": "stdout",
     "output_type": "stream",
     "text": [
      "+--------------------+\n",
      "|            features|\n",
      "+--------------------+\n",
      "|[234.0,143.0,1498...|\n",
      "|[234.0,112.0,1194...|\n",
      "|[234.0,99.0,10733...|\n",
      "|[234.0,112.0,1186...|\n",
      "|[234.0,112.0,1110...|\n",
      "|[234.0,172.0,1972...|\n",
      "|[234.0,215.0,2650...|\n",
      "|[234.0,167.0,1906...|\n",
      "|[234.0,101.0,1010...|\n",
      "|[234.0,86.0,8876....|\n",
      "|[234.0,81.0,8420....|\n",
      "|[234.0,102.0,1058...|\n",
      "|[234.0,135.0,1496...|\n",
      "|[234.0,163.0,1888...|\n",
      "|[234.0,107.0,1123...|\n",
      "|[234.0,89.0,9848....|\n",
      "|[234.0,113.0,1238...|\n",
      "|[234.0,115.0,1325...|\n",
      "|[234.0,139.0,1472...|\n",
      "|[234.0,181.0,2006...|\n",
      "+--------------------+\n",
      "only showing top 20 rows\n",
      "\n"
     ]
    }
   ],
   "source": [
    "features1.show()"
   ]
  },
  {
   "cell_type": "code",
   "execution_count": 90,
   "metadata": {},
   "outputs": [
    {
     "data": {
      "text/plain": [
       "[1, 2, 4, 5, 7, 8, 10, 11]"
      ]
     },
     "execution_count": 90,
     "metadata": {},
     "output_type": "execute_result"
    }
   ],
   "source": [
    "selector = VarianceThresholdSelector(varianceThreshold=0.5, outputCol=\"selectedFeatures\")\n",
    "\n",
    "result = selector.fit(features1)#.transform(features1)\n",
    "\n",
    "# print(\"Features selected by VarianceThresholdSelector:\")\n",
    "# result.show()\n",
    "\n",
    "result.getFeaturesCol()\n",
    "\n",
    "result.setFeaturesCol(\"features\")\n",
    "#VarianceThresholdSelectorModel...\n",
    "result.transform(features1).head().selectedFeatures\n",
    "\n",
    "result.selectedFeatures"
   ]
  },
  {
   "cell_type": "markdown",
   "metadata": {},
   "source": [
    "Modelling"
   ]
  },
  {
   "cell_type": "markdown",
   "metadata": {},
   "source": []
  },
  {
   "cell_type": "code",
   "execution_count": 91,
   "metadata": {},
   "outputs": [
    {
     "name": "stdout",
     "output_type": "stream",
     "text": [
      "+-------+--------------------+---------+-------+-------+-------+-----------+-----------+-----------+-------+-------+-------+-----------+-----------+-----------+\n",
      "|HotelID|          Hotel Name|     Date|PropSup|PropDem|PropRev|    PropOcc|    PropADR| PropRevPAR|CompSup|CompDem|CompRev|    CompOcc|    CompADR| CompRevPAR|\n",
      "+-------+--------------------+---------+-------+-------+-------+-----------+-----------+-----------+-------+-------+-------+-----------+-----------+-----------+\n",
      "|   4763|AC Hotels by Marr...|5/23/2021|    234|    143|  14982|0.611111111|104.7692308|64.02564103|   1311|    677|  71519|0.516399695|105.6410635|54.55301297|\n",
      "|   4763|AC Hotels by Marr...|5/24/2021|    234|    112|  11946|0.478632479|106.6607143|51.05128205|   1311|    528|  55124|0.402745995|104.4015152|42.04729214|\n",
      "|   4763|AC Hotels by Marr...|5/25/2021|    234|     99|  10733|0.423076923|108.4141414|45.86752137|   1311|    496|  54884|0.378337147|110.6532258|41.86422578|\n",
      "|   4763|AC Hotels by Marr...|5/26/2021|    234|    112|  11868|0.478632479|105.9642857|50.71794872|   1311|    480|  53515|0.366132723|111.4895833|40.81998474|\n",
      "|   4763|AC Hotels by Marr...|5/27/2021|    234|    112|  11100|0.478632479|99.10714286|47.43589744|   1311|    571|  62268|0.435545385|109.0507881|47.49656751|\n",
      "|   4763|AC Hotels by Marr...|5/28/2021|    234|    172|  19729|0.735042735|114.7034884|84.31196581|   1311|    885| 108784|0.675057208| 122.919774|82.97787948|\n",
      "|   4763|AC Hotels by Marr...|5/29/2021|    234|    215|  26503|0.918803419|123.2697674|113.2606838|   1311|   1139| 154415|0.868802441| 135.570676|117.7841342|\n",
      "|   4763|AC Hotels by Marr...|5/30/2021|    234|    167|  19061|0.713675214|114.1377246|81.45726496|   1311|    942| 105939|0.718535469|112.4617834|80.80778032|\n",
      "|   4763|AC Hotels by Marr...|5/31/2021|    234|    101|  10106|0.431623932|100.0594059|43.18803419|   1311|    502|  54285|0.382913806|108.1374502|41.40732265|\n",
      "|   4763|AC Hotels by Marr...| 6/1/2021|    234|     86|   8876|0.367521368|103.2093023|37.93162393|   1311|    413|  46747|0.315026697| 113.188862|35.65751335|\n",
      "|   4763|AC Hotels by Marr...| 6/2/2021|    234|     81|   8420|0.346153846|103.9506173|35.98290598|   1311|    454|  48715|0.346300534|107.3017621|37.15865751|\n",
      "|   4763|AC Hotels by Marr...| 6/3/2021|    234|    102|  10587|0.435897436|103.7941176|45.24358974|   1311|    520|  58905|0.396643783|113.2788462|44.93135011|\n",
      "|   4763|AC Hotels by Marr...| 6/4/2021|    234|    135|  14962|0.576923077|110.8296296|63.94017094|   1311|    697|  82161|0.531655225|117.8780488|62.67048055|\n",
      "|   4763|AC Hotels by Marr...| 6/5/2021|    234|    163|  18884|0.696581197|115.8527607| 80.7008547|   1311|    778|  94775|0.593440122|121.8187661| 72.2921434|\n",
      "|   4763|AC Hotels by Marr...| 6/6/2021|    234|    107|  11231|0.457264957|104.9626168| 47.9957265|   1311|    520|  59501|0.396643783|    114.425|45.38596491|\n",
      "|   4763|AC Hotels by Marr...| 6/7/2021|    234|     89|   9848| 0.38034188|110.6516854|42.08547009|   1311|    542|  65430|0.413424867|120.7195572|49.90846682|\n",
      "|   4763|AC Hotels by Marr...| 6/8/2021|    234|    113|  12384|0.482905983|109.5929204|52.92307692|   1311|    566|  66369|0.431731503|117.2597173|50.62471396|\n",
      "|   4763|AC Hotels by Marr...| 6/9/2021|    234|    115|  13251|0.491452991| 115.226087|56.62820513|   1311|    578|  65646|0.440884821|113.5743945|50.07322654|\n",
      "|   4763|AC Hotels by Marr...|6/10/2021|    234|    139|  14720|0.594017094|105.8992806|62.90598291|   1311|    620|  69848|0.472921434|112.6580645|53.27841342|\n",
      "|   4763|AC Hotels by Marr...|6/11/2021|    234|    181|  20068|0.773504274|110.8729282|85.76068376|   1311|    927| 114527|0.707093822|123.5458468|87.35850496|\n",
      "+-------+--------------------+---------+-------+-------+-------+-----------+-----------+-----------+-------+-------+-------+-----------+-----------+-----------+\n",
      "only showing top 20 rows\n",
      "\n"
     ]
    }
   ],
   "source": [
    "df.show()"
   ]
  },
  {
   "cell_type": "code",
   "execution_count": 114,
   "metadata": {},
   "outputs": [
    {
     "name": "stdout",
     "output_type": "stream",
     "text": [
      "+-----------+-----------+-----------+-----------+-----------+-----------+\n",
      "|    PropOcc|    PropADR| PropRevPAR|    CompOcc|    CompADR| CompRevPAR|\n",
      "+-----------+-----------+-----------+-----------+-----------+-----------+\n",
      "|0.611111111|104.7692308|64.02564103|0.516399695|105.6410635|54.55301297|\n",
      "|0.478632479|106.6607143|51.05128205|0.402745995|104.4015152|42.04729214|\n",
      "|0.423076923|108.4141414|45.86752137|0.378337147|110.6532258|41.86422578|\n",
      "|0.478632479|105.9642857|50.71794872|0.366132723|111.4895833|40.81998474|\n",
      "|0.478632479|99.10714286|47.43589744|0.435545385|109.0507881|47.49656751|\n",
      "|0.735042735|114.7034884|84.31196581|0.675057208| 122.919774|82.97787948|\n",
      "|0.918803419|123.2697674|113.2606838|0.868802441| 135.570676|117.7841342|\n",
      "|0.713675214|114.1377246|81.45726496|0.718535469|112.4617834|80.80778032|\n",
      "|0.431623932|100.0594059|43.18803419|0.382913806|108.1374502|41.40732265|\n",
      "|0.367521368|103.2093023|37.93162393|0.315026697| 113.188862|35.65751335|\n",
      "|0.346153846|103.9506173|35.98290598|0.346300534|107.3017621|37.15865751|\n",
      "|0.435897436|103.7941176|45.24358974|0.396643783|113.2788462|44.93135011|\n",
      "|0.576923077|110.8296296|63.94017094|0.531655225|117.8780488|62.67048055|\n",
      "|0.696581197|115.8527607| 80.7008547|0.593440122|121.8187661| 72.2921434|\n",
      "|0.457264957|104.9626168| 47.9957265|0.396643783|    114.425|45.38596491|\n",
      "| 0.38034188|110.6516854|42.08547009|0.413424867|120.7195572|49.90846682|\n",
      "|0.482905983|109.5929204|52.92307692|0.431731503|117.2597173|50.62471396|\n",
      "|0.491452991| 115.226087|56.62820513|0.440884821|113.5743945|50.07322654|\n",
      "|0.594017094|105.8992806|62.90598291|0.472921434|112.6580645|53.27841342|\n",
      "|0.773504274|110.8729282|85.76068376|0.707093822|123.5458468|87.35850496|\n",
      "+-----------+-----------+-----------+-----------+-----------+-----------+\n",
      "only showing top 20 rows\n",
      "\n"
     ]
    }
   ],
   "source": [
    "x=df.select(\"PropOcc\",'PropADR',\n",
    " 'PropRevPAR',\n",
    " 'CompOcc',\n",
    " 'CompADR',\n",
    " 'CompRevPAR')\n",
    "x.show()"
   ]
  },
  {
   "cell_type": "code",
   "execution_count": 121,
   "metadata": {},
   "outputs": [
    {
     "name": "stdout",
     "output_type": "stream",
     "text": [
      "+-----------+-----------+-----------+-----------+-----------+-----------+-------------+--------------------+-------------+--------------------+-------------+--------------------+-------------+--------------------+-------------+--------------------+-------------+--------------------+\n",
      "|    PropOcc|    PropADR| PropRevPAR|    CompOcc|    CompADR| CompRevPAR|   vecPropOcc|       scaledPropOcc|   vecPropADR|       scaledPropADR|vecPropRevPAR|    scaledPropRevPAR|   vecCompOcc|       scaledCompOcc|   vecCompADR|       scaledCompADR|vecCompRevPAR|    scaledCompRevPAR|\n",
      "+-----------+-----------+-----------+-----------+-----------+-----------+-------------+--------------------+-------------+--------------------+-------------+--------------------+-------------+--------------------+-------------+--------------------+-------------+--------------------+\n",
      "|0.611111111|104.7692308|64.02564103|0.516399695|105.6410635|54.55301297|[0.611111111]|[0.5159574464178928]|[104.7692308]|[0.04291756807483...|[64.02564103]|[0.09928789633459...|[0.516399695]|[0.42100192674942...|[105.6410635]|[0.04429639741887...|[54.55301297]|[0.09951218362586...|\n",
      "|0.478632479|106.6607143|51.05128205|0.402745995|104.4015152|42.04729214|[0.478632479]|[0.35106382990640...|[106.6607143]|[0.04839727377868...|[51.05128205]|[0.06763421016662...|[0.402745995]|[0.27745664655927...|[104.4015152]|[0.03962379586337...|[42.04729214]|[0.06087571285316...|\n",
      "|0.423076923|108.4141414|45.86752137|0.378337147|110.6532258|41.86422578|[0.423076923]|[0.2819148931469556]|[108.4141414]|[0.05347702439831...|[45.86752137]|[0.05498733227558...|[0.378337147]|[0.24662813041524...|[110.6532258]|[0.06319024557258...|[41.86422578]|[0.06031012865663...|\n",
      "|0.478632479|105.9642857|50.71794872|0.366132723|111.4895833|40.81998474|[0.478632479]|[0.35106382990640...|[105.9642857]|[0.04637969140392...|[50.71794872]|[0.0668209731786987]|[0.366132723]| [0.231213872343229]|[111.4895833]|[0.0663429789960871]|[40.81998474]|[0.05708394210009...|\n",
      "|0.478632479|99.10714286|47.43589744|0.435545385|109.0507881|47.49656751|[0.478632479]|[0.35106382990640...|[99.10714286]|[0.02651426580942...|[47.43589744]|[0.05881371660714...|[0.435545385]|[0.31888246575931...|[109.0507881]|[0.0571496960517562]|[47.49656751]|[0.07771126926989...|\n",
      "+-----------+-----------+-----------+-----------+-----------+-----------+-------------+--------------------+-------------+--------------------+-------------+--------------------+-------------+--------------------+-------------+--------------------+-------------+--------------------+\n",
      "only showing top 5 rows\n",
      "\n"
     ]
    }
   ],
   "source": [
    "from pyspark.ml import Pipeline\n",
    "\n",
    "# Select the relevant columns for your features\n",
    "feature_columns = [\"PropOcc\",'PropADR',\n",
    " 'PropRevPAR',\n",
    " 'CompOcc',\n",
    " 'CompADR',\n",
    " 'CompRevPAR']\n",
    "\n",
    "scaled_df = x\n",
    "# Step 1: Vectorize the data\n",
    "for feature in feature_columns:\n",
    "    assembler = VectorAssembler(inputCols=[feature], outputCol=f\"vec{feature}\")\n",
    "    vectorized_df = assembler.transform(scaled_df)\n",
    "\n",
    "#vectorized_df.show(5)\n",
    "    \n",
    "#Step 2: Apply Min-Max Scaling\n",
    "    scaler = MinMaxScaler(inputCol=f\"vec{feature}\", outputCol=f\"scaled{feature}\")\n",
    "    scaler_model = scaler.fit(vectorized_df)\n",
    "    scaled_df = scaler_model.transform(vectorized_df)\n",
    "    \n",
    "scaled_df.show(5)\n",
    "# # Rename the target column to \"label\" if it's not already named that way\n",
    "# scaled_df = scaled_df.withColumnRenamed(\"PropOcc\", \"label\")\n",
    "# scaled_df.show()\n",
    "# # Create a pipeline to execute the transformations\n",
    "# pipeline = Pipeline(stages=[assembler])\n",
    "\n",
    "# # Fit and transform the data\n",
    "# model_data = pipeline.fit(scaled_df).transform(scaled_df)\n",
    "# model_data.show()\n",
    "\n",
    "# # Now you have the \"features\" column containing the feature vectors and the \"label\" column for your target variable\n",
    "\n",
    "# # You can split the data into training and testing sets\n",
    "# train_data, test_data = model_data.randomSplit([0.8, 0.2], seed=42)\n",
    "\n",
    "\n",
    "\n",
    "\n",
    "\n"
   ]
  },
  {
   "cell_type": "code",
   "execution_count": 94,
   "metadata": {},
   "outputs": [
    {
     "name": "stdout",
     "output_type": "stream",
     "text": [
      "+--------------------+--------------------+--------------------+--------------------+--------------------+--------------------+\n",
      "|       scaledPropOcc|       scaledPropADR|    scaledPropRevPAR|       scaledCompOcc|       scaledCompADR|    scaledCompRevPAR|\n",
      "+--------------------+--------------------+--------------------+--------------------+--------------------+--------------------+\n",
      "|[0.5159574464178928]|[0.04291756807483...|[0.09928789633459...|[0.42100192674942...|[0.04429639741887...|[0.09951218362586...|\n",
      "|[0.35106382990640...|[0.04839727377868...|[0.06763421016662...|[0.27745664655927...|[0.03962379586337...|[0.06087571285316...|\n",
      "|[0.2819148931469556]|[0.05347702439831...|[0.05498733227558...|[0.24662813041524...|[0.06319024557258...|[0.06031012865663...|\n",
      "|[0.35106382990640...|[0.04637969140392...|[0.0668209731786987]| [0.231213872343229]|[0.0663429789960871]|[0.05708394210009...|\n",
      "|[0.35106382990640...|[0.02651426580942...|[0.05881371660714...|[0.31888246575931...|[0.0571496960517562]|[0.07771126926989...|\n",
      "|[0.6702127657323449]|[0.07169752202856...|[0.1487806658099406]|[0.6213872829486201]|[0.10943022847597...|[0.18733091387425...|\n",
      "|[0.8989361704047646]|[0.09651438556297...|[0.2194071711835765]|[0.8660886323678679]|[0.1571190715518544]|[0.29486496660717...|\n",
      "| [0.643617021495077]|[0.07005848096799...|[0.1418160207782575]| [0.676300577961676]|[0.07000778471565...|[0.18062638449054...|\n",
      "|[0.2925531915886713]|[0.02927301110741...|[0.04845015795987...|[0.2524084771922495]|[0.05370677729478...|[0.05889852474606...|\n",
      "|[0.21276595763218...|[0.03839839087923...|[0.03562603609022...|[0.1666666660351638]|[0.07274858037269...|[0.04113446764068...|\n",
      "|[0.18617021215023...|[0.04054601100589...|[0.03087172749476...|[0.20616570297620...|[0.05055656724168...|[0.04577225807690...|\n",
      "|[0.29787234018718...|[0.04009262492098...|[0.05346511942200...|[0.26974951752326...|[0.07308778483361...|[0.06978602062185...|\n",
      "|[0.47340425514039...|[0.06047479332790...|[0.09907937401685...|[0.4402697493394394]|[0.09042494000765...|[0.12459112974711...|\n",
      "|[0.6223404258563264]|[0.07502701127739...|[0.13997059835537...|[0.5183044314605176]|[0.10527986884403...|[0.15431729272022...|\n",
      "|[0.32446808442445...|[0.04347781529202...|[0.06017953771632...|[0.26974951752326...|[0.07740832646052...|[0.07119055472843...|\n",
      "|[0.2287234034277388]|[0.05995928164212...|[0.04576022020994...|[0.29094412363529...|[0.10113629072291...|[0.08516284111163...|\n",
      "|[0.35638297850492...|[0.05689199577389...|[0.07220084867856...|[0.3140655107433148]|[0.08809407744367...|[0.08737568930062...|\n",
      "|[0.36702127570195...|[0.07321151172461...|[0.08124029068507...|[0.3256262042973259]|[0.07420188377296...|[0.08567186687615...|\n",
      "|[0.4946808507791422]|[0.04619136894842...|[0.09655625411623...|[0.3660886317363649]|[0.07074768599515...|[0.09557430360040...|\n",
      "|[0.7180851068530444]|[0.06060023115773...|[0.15231511891131...| [0.661849711650665]|[0.11179027264620...|[0.20086487250206...|\n",
      "+--------------------+--------------------+--------------------+--------------------+--------------------+--------------------+\n",
      "only showing top 20 rows\n",
      "\n"
     ]
    }
   ],
   "source": [
    "x=scaled_df.select(\"scaledPropOcc\",\"scaledPropADR\",\"scaledPropRevPAR\",\"scaledCompOcc\",\"scaledCompADR\",\"scaledCompRevPAR\")\n",
    "x.show()"
   ]
  },
  {
   "cell_type": "code",
   "execution_count": 110,
   "metadata": {},
   "outputs": [],
   "source": [
    "from pyspark.sql.functions import udf\n",
    "from pyspark.ml.linalg import Vectors\n",
    "from pyspark.sql.types import DoubleType\n",
    "\n",
    "# Define a UDF to extract elements from a vector\n",
    "extract_elements = udf(lambda vec: [float(e) for e in vec], DoubleType())\n"
   ]
  },
  {
   "cell_type": "code",
   "execution_count": null,
   "metadata": {},
   "outputs": [],
   "source": []
  }
 ],
 "metadata": {
  "kernelspec": {
   "display_name": "hacs_env",
   "language": "python",
   "name": "python3"
  },
  "language_info": {
   "codemirror_mode": {
    "name": "ipython",
    "version": 3
   },
   "file_extension": ".py",
   "mimetype": "text/x-python",
   "name": "python",
   "nbconvert_exporter": "python",
   "pygments_lexer": "ipython3",
   "version": "3.10.11"
  }
 },
 "nbformat": 4,
 "nbformat_minor": 2
}
